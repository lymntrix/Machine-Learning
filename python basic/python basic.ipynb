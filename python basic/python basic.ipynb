{
 "cells": [
  {
   "cell_type": "markdown",
   "id": "2297b23f",
   "metadata": {},
   "source": [
    "# Python Basic Example"
   ]
  },
  {
   "cell_type": "code",
   "execution_count": null,
   "id": "72930759",
   "metadata": {},
   "outputs": [],
   "source": [
    "print(\"twinkle , twinkle little star .\\n\\tHow I wonder how you are .\\n\\t\\tup above world so high \\n\\t\\t\\tLike a dimond  in the sky\")"
   ]
  },
  {
   "cell_type": "code",
   "execution_count": null,
   "id": "f5bf0ee0",
   "metadata": {},
   "outputs": [],
   "source": [
    "import datetime\n",
    "now =datetime.datetime.now()\n",
    "print(now)"
   ]
  },
  {
   "cell_type": "code",
   "execution_count": null,
   "id": "8856d662",
   "metadata": {},
   "outputs": [],
   "source": [
    "import sys\n",
    "print(\"System info\")\n",
    "print(sys.version)\n",
    "print(sys.version_info)"
   ]
  },
  {
   "cell_type": "markdown",
   "id": "b28cfb9b",
   "metadata": {},
   "source": [
    "# Write a Python program which accepts the radius of a circle from the user and compute the area. Go to the editor"
   ]
  },
  {
   "cell_type": "code",
   "execution_count": null,
   "id": "261692da",
   "metadata": {},
   "outputs": [],
   "source": [
    "# \n",
    "# Sample Output :\n",
    "# r = 1.1\n",
    "# Area = 3.8013271108436504\n",
    "radius=float(input(\"enter the radius\"))\n",
    "area=radius*3.12*radius\n",
    "print(\"the area is :\",area)"
   ]
  },
  {
   "cell_type": "code",
   "execution_count": null,
   "id": "a2b13a01",
   "metadata": {},
   "outputs": [],
   "source": [
    "from math import pi\n",
    "r=float(input(\"enter the radius\"))\n",
    "print(\"the area of radius \"+str(r)+\" is \"+str(r*r*pi))"
   ]
  },
  {
   "cell_type": "markdown",
   "id": "f4121ae4",
   "metadata": {},
   "source": [
    "# Write a Python program which accepts the user's first and last name and print them in reverse order with a space between them."
   ]
  },
  {
   "cell_type": "code",
   "execution_count": null,
   "id": "ab9f440e",
   "metadata": {},
   "outputs": [],
   "source": [
    "first=input(\"enter the first name \")\n",
    "last=input(\"enter the last name \")\n",
    "print(last+\" \"+first)"
   ]
  },
  {
   "cell_type": "markdown",
   "id": "856c8310",
   "metadata": {},
   "source": [
    "# Write a Python program which accepts a sequence of comma-separated numbers from user and generate a list and a tuple with those numbers."
   ]
  },
  {
   "cell_type": "code",
   "execution_count": null,
   "id": "7d820dd3",
   "metadata": {},
   "outputs": [],
   "source": [
    "values=input(\"enter the number \")\n",
    "list=values.split(\",\")\n",
    "tuple=tuple(list)\n",
    "print(list)\n",
    "print(tuple)"
   ]
  },
  {
   "cell_type": "code",
   "execution_count": null,
   "id": "81c9f72b",
   "metadata": {},
   "outputs": [],
   "source": [
    "values = input(\"Input some comma seprated numbers : \")\n",
    "list = values.split(\",\")\n",
    "tuple = tuple(list)\n",
    "print('List : ',list)\n",
    "print('Tuple : ',tuple)"
   ]
  },
  {
   "cell_type": "markdown",
   "id": "5a6732fd",
   "metadata": {},
   "source": [
    "# Write a Python program to accept a filename from the user and print the extension of that."
   ]
  },
  {
   "cell_type": "code",
   "execution_count": null,
   "id": "caab68ac",
   "metadata": {},
   "outputs": [],
   "source": [
    "fileName=input(\"enter the file name\")\n",
    "new=fileName.split(\".\")\n",
    "print(new[1])\n",
    "print(repr(new[-1]))"
   ]
  },
  {
   "cell_type": "markdown",
   "id": "d4407977",
   "metadata": {},
   "source": [
    "# Write a Python program to display the first and last colors from the following list. Go to the editor\n"
   ]
  },
  {
   "cell_type": "code",
   "execution_count": null,
   "id": "b14a2bab",
   "metadata": {},
   "outputs": [],
   "source": [
    "color_list = [\"Red\",\"Green\",\"White\" ,\"Black\"]\n",
    "print(color_list[0]+\" \"+color_list[-1])\n",
    "print(\"%s %s\"%(color_list[0],color_list[-1]))"
   ]
  },
  {
   "cell_type": "markdown",
   "id": "1571144b",
   "metadata": {},
   "source": [
    "# Write a Python program to display the examination schedule. (extract the date from exam_st_date)."
   ]
  },
  {
   "cell_type": "code",
   "execution_count": null,
   "id": "8b2c3067",
   "metadata": {},
   "outputs": [],
   "source": [
    "exam_st_date = (11, 12, 2014)\n",
    "print(\"examination will start in : %i / %i / %i \"%exam_st_date)"
   ]
  },
  {
   "cell_type": "markdown",
   "id": "4dcab1dd",
   "metadata": {},
   "source": [
    "# Python: Input an integer (n) and computes the value of n+nn+nnn"
   ]
  },
  {
   "cell_type": "code",
   "execution_count": null,
   "id": "7d63e67c",
   "metadata": {},
   "outputs": [],
   "source": [
    "a=int(input(\"enter the value\"))\n",
    "n1=int(\"%s\"%a)\n",
    "n2=int(\"%s%s\"%(a,a))\n",
    "n3=int(\"%s%s%s\"%(a,a,a))\n",
    "print(n1+n2+n3)"
   ]
  },
  {
   "cell_type": "markdown",
   "id": "2270ab94",
   "metadata": {},
   "source": [
    "# Python: Input an integer (n) and computes the value of n+nn+nnn"
   ]
  },
  {
   "cell_type": "code",
   "execution_count": null,
   "id": "1263fa7f",
   "metadata": {},
   "outputs": [],
   "source": [
    "a=-23\n",
    "print(abs(a))\n",
    "print(abs.__doc__)"
   ]
  },
  {
   "cell_type": "markdown",
   "id": "3cf2d33b",
   "metadata": {},
   "source": [
    "# Python: Print the calendar of a given month and year"
   ]
  },
  {
   "cell_type": "code",
   "execution_count": 1,
   "id": "7fff552a",
   "metadata": {},
   "outputs": [],
   "source": [
    "import calendar"
   ]
  },
  {
   "cell_type": "code",
   "execution_count": 1,
   "id": "2c09c590",
   "metadata": {},
   "outputs": [
    {
     "name": "stdout",
     "output_type": "stream",
     "text": [
      "enter the year2020\n",
      "enter the month2\n",
      "   February 2020\n",
      "Mo Tu We Th Fr Sa Su\n",
      "                1  2\n",
      " 3  4  5  6  7  8  9\n",
      "10 11 12 13 14 15 16\n",
      "17 18 19 20 21 22 23\n",
      "24 25 26 27 28 29\n",
      "\n"
     ]
    }
   ],
   "source": [
    "import calendar\n",
    "y=int(input(\"enter the year\"))\n",
    "m=int(input(\"enter the month\"))\n",
    "print(calendar.month(y,m))"
   ]
  },
  {
   "cell_type": "markdown",
   "id": "2ce0fc35",
   "metadata": {},
   "source": [
    "# Python: Calculate number of days between two dates"
   ]
  },
  {
   "cell_type": "code",
   "execution_count": 8,
   "id": "6c774d71",
   "metadata": {},
   "outputs": [
    {
     "name": "stdout",
     "output_type": "stream",
     "text": [
      "-29 days, 0:00:00\n"
     ]
    }
   ],
   "source": [
    "from datetime import date\n",
    "l_time=date(2020,2,1)\n",
    "t_time=date(2020,3,1)\n",
    "delta=l_time-t_time\n",
    "print(delta)"
   ]
  },
  {
   "cell_type": "markdown",
   "id": "6fb23197",
   "metadata": {},
   "source": [
    "# Write a Python program to get the volume of a sphere with radius 6.\n",
    "The volume of the sphere is : V = 4/3 × π × r3 = π × d3/6."
   ]
  },
  {
   "cell_type": "code",
   "execution_count": 15,
   "id": "f961e67a",
   "metadata": {},
   "outputs": [
    {
     "name": "stdout",
     "output_type": "stream",
     "text": [
      "enter the radius1\n",
      "4.1887902047863905\n"
     ]
    }
   ],
   "source": [
    "from math import pi\n",
    "r=int(input(\"enter the radius\"))\n",
    "v=(4/3)*pi*r*r*r\n",
    "print(v)"
   ]
  },
  {
   "cell_type": "markdown",
   "id": "2b1c53cb",
   "metadata": {},
   "source": [
    "# Get the difference between a given number and 17, if the number is greater than 17 return double the absolute difference"
   ]
  },
  {
   "cell_type": "code",
   "execution_count": 23,
   "id": "55cc14c0",
   "metadata": {},
   "outputs": [
    {
     "name": "stdout",
     "output_type": "stream",
     "text": [
      "enter the number 22\n"
     ]
    },
    {
     "data": {
      "text/plain": [
       "10"
      ]
     },
     "execution_count": 23,
     "metadata": {},
     "output_type": "execute_result"
    }
   ],
   "source": [
    "r=int(input(\"enter the number \"))\n",
    "def sum(r):\n",
    "    if(r>=17):\n",
    "        return (r-17)*2\n",
    "    else:\n",
    "        return abs(17-r)\n",
    "sum(r)\n",
    "        \n",
    "    "
   ]
  },
  {
   "cell_type": "markdown",
   "id": "e35636e3",
   "metadata": {},
   "source": [
    "#  Get the difference between a given number and 17, if the number is greater than 17 return double the absolute difference"
   ]
  },
  {
   "cell_type": "code",
   "execution_count": 42,
   "id": "ef159432",
   "metadata": {},
   "outputs": [
    {
     "name": "stdout",
     "output_type": "stream",
     "text": [
      "enter the first number1\n",
      "Enter the secound number1\n",
      "enter the third number1\n",
      "9\n"
     ]
    }
   ],
   "source": [
    "num1=int(input(\"enter the first number\"))\n",
    "num2=int(input(\"Enter the secound number\"))\n",
    "num3=int(input(\"enter the third number\"))\n",
    "# if(num1==num2 and num2==num3 and num1==num3):\n",
    "if(num1==num2==num3):\n",
    "    print((num1+num2+num3)*3)\n",
    "else:\n",
    "    print(num1+num2+num3)\n",
    "    \n",
    "    "
   ]
  },
  {
   "cell_type": "code",
   "execution_count": 44,
   "id": "6867ed2e",
   "metadata": {},
   "outputs": [
    {
     "name": "stdout",
     "output_type": "stream",
     "text": [
      "9\n",
      "6\n"
     ]
    }
   ],
   "source": [
    "def sum(x,y,z):\n",
    "    sum=x+y+z\n",
    "    if(x==y==z):\n",
    "        print(sum*3)\n",
    "    else:\n",
    "        print(sum)\n",
    "sum(1,1,1)\n",
    "sum(1,2,3)"
   ]
  },
  {
   "cell_type": "markdown",
   "id": "ac8030e5",
   "metadata": {},
   "source": [
    "# Write a Python program to get a new string from a given string where \"Is\" has been added to the front. If the given string already begins with \"Is\" then return the string unchanged"
   ]
  },
  {
   "cell_type": "code",
   "execution_count": null,
   "id": "dc0416a6",
   "metadata": {},
   "outputs": [],
   "source": [
    "s=input(\"enter the string\")\n",
    "if(((s[0]==\"i\" and s[1])==\"f\"))):\n",
    "       print(s)\n",
    "else:\n",
    "     "
   ]
  }
 ],
 "metadata": {
  "kernelspec": {
   "display_name": "Python 3 (ipykernel)",
   "language": "python",
   "name": "python3"
  },
  "language_info": {
   "codemirror_mode": {
    "name": "ipython",
    "version": 3
   },
   "file_extension": ".py",
   "mimetype": "text/x-python",
   "name": "python",
   "nbconvert_exporter": "python",
   "pygments_lexer": "ipython3",
   "version": "3.9.1"
  }
 },
 "nbformat": 4,
 "nbformat_minor": 5
}
