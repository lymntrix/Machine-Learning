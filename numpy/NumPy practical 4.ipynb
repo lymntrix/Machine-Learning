{
 "cells": [
  {
   "cell_type": "markdown",
   "id": "366b683d",
   "metadata": {},
   "source": [
    "# Mathematic operation using NumPy"
   ]
  },
  {
   "cell_type": "code",
   "execution_count": 2,
   "id": "a437a970",
   "metadata": {},
   "outputs": [],
   "source": [
    "import numpy as np"
   ]
  },
  {
   "cell_type": "code",
   "execution_count": 6,
   "id": "4b31a355",
   "metadata": {},
   "outputs": [
    {
     "name": "stdout",
     "output_type": "stream",
     "text": [
      "[[1 2 3]\n",
      " [4 5 6]\n",
      " [7 8 9]]\n",
      "[[1 2 3]\n",
      " [4 5 6]\n",
      " [7 8 9]]\n"
     ]
    }
   ],
   "source": [
    "arr1=np.arange(1,10).reshape(3,3)\n",
    "arr2=np.arange(1,10).reshape(3,3)\n",
    "print(arr1)\n",
    "print(arr2)"
   ]
  },
  {
   "cell_type": "markdown",
   "id": "2c181255",
   "metadata": {},
   "source": [
    "# adding two array in one using numpy"
   ]
  },
  {
   "cell_type": "code",
   "execution_count": 8,
   "id": "80d7e162",
   "metadata": {},
   "outputs": [
    {
     "name": "stdout",
     "output_type": "stream",
     "text": [
      "[[ 2  4  6]\n",
      " [ 8 10 12]\n",
      " [14 16 18]]\n"
     ]
    }
   ],
   "source": [
    "arr3=np.add(arr1,arr2)\n",
    "print(arr3)"
   ]
  },
  {
   "cell_type": "markdown",
   "id": "fcde7d97",
   "metadata": {},
   "source": [
    "\n",
    "# subtract two array in numpy"
   ]
  },
  {
   "cell_type": "code",
   "execution_count": 10,
   "id": "db63965f",
   "metadata": {},
   "outputs": [
    {
     "name": "stdout",
     "output_type": "stream",
     "text": [
      "[[0 0 0]\n",
      " [0 0 0]\n",
      " [0 0 0]]\n"
     ]
    }
   ],
   "source": [
    "arr4=np.subtract(arr1,arr2)\n",
    "print(arr4)"
   ]
  },
  {
   "cell_type": "markdown",
   "id": "a3d26029",
   "metadata": {},
   "source": [
    "# divide two array in numpy"
   ]
  },
  {
   "cell_type": "code",
   "execution_count": 12,
   "id": "6c8850c5",
   "metadata": {},
   "outputs": [
    {
     "data": {
      "text/plain": [
       "array([[1., 1., 1.],\n",
       "       [1., 1., 1.],\n",
       "       [1., 1., 1.]])"
      ]
     },
     "execution_count": 12,
     "metadata": {},
     "output_type": "execute_result"
    }
   ],
   "source": [
    "np.divide(arr1,arr2)"
   ]
  },
  {
   "cell_type": "markdown",
   "id": "8e8cda2e",
   "metadata": {},
   "source": [
    "# multiplication of two array in numpy"
   ]
  },
  {
   "cell_type": "code",
   "execution_count": 16,
   "id": "b3db5bf1",
   "metadata": {},
   "outputs": [
    {
     "data": {
      "text/plain": [
       "array([[ 1,  4,  9],\n",
       "       [16, 25, 36],\n",
       "       [49, 64, 81]])"
      ]
     },
     "execution_count": 16,
     "metadata": {},
     "output_type": "execute_result"
    }
   ],
   "source": [
    "np.multiply(arr1,arr2)"
   ]
  },
  {
   "cell_type": "code",
   "execution_count": 18,
   "id": "4efa33ba",
   "metadata": {},
   "outputs": [
    {
     "data": {
      "text/plain": [
       "array([[ 30,  36,  42],\n",
       "       [ 66,  81,  96],\n",
       "       [102, 126, 150]])"
      ]
     },
     "execution_count": 18,
     "metadata": {},
     "output_type": "execute_result"
    }
   ],
   "source": [
    "arr1.dot(arr2)"
   ]
  },
  {
   "cell_type": "code",
   "execution_count": 20,
   "id": "929e5b1e",
   "metadata": {},
   "outputs": [
    {
     "data": {
      "text/plain": [
       "array([[1, 2, 3],\n",
       "       [4, 5, 6],\n",
       "       [7, 8, 9]])"
      ]
     },
     "execution_count": 20,
     "metadata": {},
     "output_type": "execute_result"
    }
   ],
   "source": [
    "arr1"
   ]
  },
  {
   "cell_type": "code",
   "execution_count": 30,
   "id": "6aaf087f",
   "metadata": {},
   "outputs": [
    {
     "name": "stdout",
     "output_type": "stream",
     "text": [
      "maximum value is  9\n",
      "minimum value is  1\n"
     ]
    }
   ],
   "source": [
    "print(\"maximum value is \",arr1.max())\n",
    "print(\"minimum value is \",arr1.min())"
   ]
  },
  {
   "cell_type": "code",
   "execution_count": 31,
   "id": "a010a018",
   "metadata": {},
   "outputs": [
    {
     "name": "stdout",
     "output_type": "stream",
     "text": [
      "max index number : 8\n",
      "min index number : 0\n"
     ]
    }
   ],
   "source": [
    "print(\"max index number :\",arr1.argmax())\n",
    "print(\"min index number :\",arr1.argmin())"
   ]
  },
  {
   "cell_type": "code",
   "execution_count": 32,
   "id": "65fdccb0",
   "metadata": {},
   "outputs": [
    {
     "name": "stdout",
     "output_type": "stream",
     "text": [
      "maximum values in column  [7 8 9]\n",
      "min value in column  [1 2 3]\n"
     ]
    }
   ],
   "source": [
    "print(\"maximum values in column \",arr1.max(axis=0))\n",
    "print(\"min value in column \",arr1.min(axis=0))"
   ]
  },
  {
   "cell_type": "code",
   "execution_count": 33,
   "id": "f9fab233",
   "metadata": {},
   "outputs": [
    {
     "name": "stdout",
     "output_type": "stream",
     "text": [
      "max value in row is  [3 6 9]\n",
      "min value in row is  [1 4 7]\n"
     ]
    }
   ],
   "source": [
    "print(\"max value in row is \",arr1.max(axis=1))\n",
    "print(\"min value in row is \",arr1.min(axis=1))"
   ]
  },
  {
   "cell_type": "code",
   "execution_count": 36,
   "id": "28f8b01e",
   "metadata": {},
   "outputs": [
    {
     "name": "stdout",
     "output_type": "stream",
     "text": [
      "sum of the array 1 : 45\n"
     ]
    }
   ],
   "source": [
    " print(\"sum of the array 1 :\",np.sum(arr1))"
   ]
  },
  {
   "cell_type": "code",
   "execution_count": 40,
   "id": "ccbb6126",
   "metadata": {},
   "outputs": [
    {
     "name": "stdout",
     "output_type": "stream",
     "text": [
      "sum of the column in array : [12 15 18]\n",
      "sum of the row in array : [ 6 15 24]\n"
     ]
    }
   ],
   "source": [
    "print(\"sum of the column in array :\",np.sum(arr1, axis=0))\n",
    "print(\"sum of the row in array :\",np.sum(arr1, axis=1))"
   ]
  },
  {
   "cell_type": "code",
   "execution_count": 42,
   "id": "d6b42f4c",
   "metadata": {},
   "outputs": [
    {
     "name": "stdout",
     "output_type": "stream",
     "text": [
      "mean of array1 : 5.0\n",
      "square root of array1 : 5.0\n"
     ]
    }
   ],
   "source": [
    "print(\"mean of array1 :\",np.mean(arr1))\n",
    "print(\"square root of array1 :\",np.mean(arr1))"
   ]
  },
  {
   "cell_type": "code",
   "execution_count": 44,
   "id": "6b96bc49",
   "metadata": {},
   "outputs": [
    {
     "data": {
      "text/plain": [
       "2.581988897471611"
      ]
     },
     "execution_count": 44,
     "metadata": {},
     "output_type": "execute_result"
    }
   ],
   "source": [
    "np.std(arr1) # standard division"
   ]
  },
  {
   "cell_type": "code",
   "execution_count": 46,
   "id": "6da2396d",
   "metadata": {},
   "outputs": [
    {
     "data": {
      "text/plain": [
       "array([[2.71828183e+00, 7.38905610e+00, 2.00855369e+01],\n",
       "       [5.45981500e+01, 1.48413159e+02, 4.03428793e+02],\n",
       "       [1.09663316e+03, 2.98095799e+03, 8.10308393e+03]])"
      ]
     },
     "execution_count": 46,
     "metadata": {},
     "output_type": "execute_result"
    }
   ],
   "source": [
    "np.exp(arr1)  #expontional "
   ]
  },
  {
   "cell_type": "code",
   "execution_count": 48,
   "id": "a5005493",
   "metadata": {},
   "outputs": [
    {
     "data": {
      "text/plain": [
       "array([[0.        , 0.69314718, 1.09861229],\n",
       "       [1.38629436, 1.60943791, 1.79175947],\n",
       "       [1.94591015, 2.07944154, 2.19722458]])"
      ]
     },
     "execution_count": 48,
     "metadata": {},
     "output_type": "execute_result"
    }
   ],
   "source": [
    "np.log(arr1) #logirathm of array 1"
   ]
  },
  {
   "cell_type": "code",
   "execution_count": 49,
   "id": "0bf96dad",
   "metadata": {},
   "outputs": [
    {
     "data": {
      "text/plain": [
       "array([[0.        , 0.30103   , 0.47712125],\n",
       "       [0.60205999, 0.69897   , 0.77815125],\n",
       "       [0.84509804, 0.90308999, 0.95424251]])"
      ]
     },
     "execution_count": 49,
     "metadata": {},
     "output_type": "execute_result"
    }
   ],
   "source": [
    "np.log10(arr1)"
   ]
  }
 ],
 "metadata": {
  "kernelspec": {
   "display_name": "Python 3 (ipykernel)",
   "language": "python",
   "name": "python3"
  },
  "language_info": {
   "codemirror_mode": {
    "name": "ipython",
    "version": 3
   },
   "file_extension": ".py",
   "mimetype": "text/x-python",
   "name": "python",
   "nbconvert_exporter": "python",
   "pygments_lexer": "ipython3",
   "version": "3.9.1"
  }
 },
 "nbformat": 4,
 "nbformat_minor": 5
}
